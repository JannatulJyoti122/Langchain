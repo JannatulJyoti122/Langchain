{
  "nbformat": 4,
  "nbformat_minor": 0,
  "metadata": {
    "colab": {
      "provenance": [],
      "authorship_tag": "ABX9TyMhSXy7zIdmJBrfWeGufyv4",
      "include_colab_link": true
    },
    "kernelspec": {
      "name": "python3",
      "display_name": "Python 3"
    },
    "language_info": {
      "name": "python"
    }
  },
  "cells": [
    {
      "cell_type": "markdown",
      "metadata": {
        "id": "view-in-github",
        "colab_type": "text"
      },
      "source": [
        "<a href=\"https://colab.research.google.com/github/JannatulJyoti122/Langchain/blob/main/How_Runnable_Works.ipynb\" target=\"_parent\"><img src=\"https://colab.research.google.com/assets/colab-badge.svg\" alt=\"Open In Colab\"/></a>"
      ]
    },
    {
      "cell_type": "code",
      "source": [
        "from abc import ABC, abstractmethod"
      ],
      "metadata": {
        "id": "FoNE6rmloI_a"
      },
      "execution_count": 1,
      "outputs": []
    },
    {
      "cell_type": "code",
      "source": [
        "class Runnable(ABC):\n",
        "\n",
        "  @abstractmethod\n",
        "  def invoke(input_data):\n",
        "    pass"
      ],
      "metadata": {
        "id": "w0pbWBXgoXyr"
      },
      "execution_count": 2,
      "outputs": []
    },
    {
      "cell_type": "code",
      "execution_count": 5,
      "metadata": {
        "id": "y-uR6dVHdF4k"
      },
      "outputs": [],
      "source": [
        "import random\n",
        "\n",
        "class NakliLLM(Runnable):\n",
        "  def __init__(self):\n",
        "    print(\"LLM created\")\n",
        "\n",
        "\n",
        "\n",
        "  def invoke(self,promt):  #untill we implement invoke, there will be error\n",
        "  # creating NakliLLM object\n",
        "    response_list=[\n",
        "        'Dhaka is the capital of Bangladesh',\n",
        "        \"BPL is a cricket league\",\n",
        "        'AI stands for Artificial Intelligence'\n",
        "    ]\n",
        "    return {'response': random.choice(response_list)}\n",
        "\n",
        "\n",
        "\n",
        "  def predict(self,promt):\n",
        "    response_list=[\n",
        "        'Dhaka is the capital of Bangladesh',\n",
        "        \"BPL is a cricket league\",\n",
        "        'AI stands for Artificial Intelligence'\n",
        "    ]\n",
        "    return {'response': random.choice(response_list)}"
      ]
    },
    {
      "cell_type": "code",
      "source": [
        "llm=NakliLLM()"
      ],
      "metadata": {
        "colab": {
          "base_uri": "https://localhost:8080/"
        },
        "id": "9t7MBmVXoq5t",
        "outputId": "d01b311d-ef00-48fc-9955-9b7463ee345a"
      },
      "execution_count": 6,
      "outputs": [
        {
          "output_type": "stream",
          "name": "stdout",
          "text": [
            "LLM created\n"
          ]
        }
      ]
    },
    {
      "cell_type": "code",
      "source": [
        "\n",
        "class NakliPromptTemplate:\n",
        "  def __init__(self,template,input_variables):\n",
        "    self.template=template\n",
        "    self.input_variables=input_variables\n",
        "\n",
        "  def invoke(self, input_dict):\n",
        "    return self.template.format(**input_dict)\n",
        "\n",
        "  def format(self, input_dict):\n",
        "    return self.template.format(**input_dict)\n",
        ""
      ],
      "metadata": {
        "id": "Lh6Rk7dLdN3L"
      },
      "execution_count": 4,
      "outputs": []
    },
    {
      "cell_type": "code",
      "source": [
        "#this class will create chians with runnable\n",
        "class RunnableConnector(Runnable):\n",
        "\n",
        "  def __init__(self,runnable_list):\n",
        "    self.runnable_list=runnable_list\n",
        "  def invoke(self,input_data):\n",
        "    for runnable in self.runnable_list:\n",
        "      input_data=runnable.invoke(input_data) # here ouput of previous invoke in\n",
        "      #input of next invoke which creating a chain\n",
        "\n",
        "    return input_data\n",
        "\n",
        "\n"
      ],
      "metadata": {
        "id": "Aqcxpoj2dQBn"
      },
      "execution_count": 7,
      "outputs": []
    },
    {
      "cell_type": "code",
      "source": [
        "template=NakliPromptTemplate(\n",
        "    template=\"write a {length} poem about {topic}\",\n",
        "    input_variables=['lentgh','topic']\n",
        ")"
      ],
      "metadata": {
        "id": "YyqAej13qvmx"
      },
      "execution_count": 8,
      "outputs": []
    },
    {
      "cell_type": "code",
      "source": [
        "llm=NakliLLM()"
      ],
      "metadata": {
        "colab": {
          "base_uri": "https://localhost:8080/"
        },
        "id": "KEQ7O33Fq1u-",
        "outputId": "e3de0dfd-aa1a-4eb3-9b77-4c4d1d0b97eb"
      },
      "execution_count": 9,
      "outputs": [
        {
          "output_type": "stream",
          "name": "stdout",
          "text": [
            "LLM created\n"
          ]
        }
      ]
    },
    {
      "cell_type": "code",
      "source": [
        "chain=RunnableConnector([template,llm])"
      ],
      "metadata": {
        "id": "zNtK6_Mpq6xn"
      },
      "execution_count": 12,
      "outputs": []
    },
    {
      "cell_type": "code",
      "source": [
        "chain.invoke({'length':'long','topic':'Bangladesh'})"
      ],
      "metadata": {
        "colab": {
          "base_uri": "https://localhost:8080/"
        },
        "id": "5TYpLr3ErMwS",
        "outputId": "734cbfa0-e5a2-4430-9c9b-12bad7b9e646"
      },
      "execution_count": 15,
      "outputs": [
        {
          "output_type": "execute_result",
          "data": {
            "text/plain": [
              "{'response': 'AI stands for Artificial Intelligence'}"
            ]
          },
          "metadata": {},
          "execution_count": 15
        }
      ]
    },
    {
      "cell_type": "code",
      "source": [
        "class NakliOutputParser(Runnable):\n",
        "  def __init__(self):\n",
        "    pass\n",
        "  def invoke(self,input_data):\n",
        "    return input_data['response']\n"
      ],
      "metadata": {
        "id": "TMkKRYSdr9VM"
      },
      "execution_count": 16,
      "outputs": []
    },
    {
      "cell_type": "code",
      "source": [
        "parser=NakliOutputParser()"
      ],
      "metadata": {
        "id": "RXcR0b2WsUJD"
      },
      "execution_count": 17,
      "outputs": []
    },
    {
      "cell_type": "code",
      "source": [
        "chain=RunnableConnector([template,llm,parser])"
      ],
      "metadata": {
        "id": "ifDuQm9hsYxF"
      },
      "execution_count": 18,
      "outputs": []
    },
    {
      "cell_type": "code",
      "source": [
        "chain.invoke({'length':'long','topic':'Bangladesh'})"
      ],
      "metadata": {
        "colab": {
          "base_uri": "https://localhost:8080/",
          "height": 36
        },
        "id": "gvJx9h6ysgAm",
        "outputId": "194e2190-75f6-4a7c-aa9b-bb2b83b1258b"
      },
      "execution_count": 19,
      "outputs": [
        {
          "output_type": "execute_result",
          "data": {
            "text/plain": [
              "'Dhaka is the capital of Bangladesh'"
            ],
            "application/vnd.google.colaboratory.intrinsic+json": {
              "type": "string"
            }
          },
          "metadata": {},
          "execution_count": 19
        }
      ]
    },
    {
      "cell_type": "code",
      "source": [
        "template1=NakliPromptTemplate(\n",
        "    template=\"write a joke about {topic}\",\n",
        "    input_variables=['topic']\n",
        ")"
      ],
      "metadata": {
        "id": "vee7r_D_s76h"
      },
      "execution_count": 20,
      "outputs": []
    },
    {
      "cell_type": "code",
      "source": [
        "template2=NakliPromptTemplate(\n",
        "    template=\"Explain the follwing joke {response}\",\n",
        "    input_variables=['response']\n",
        ")"
      ],
      "metadata": {
        "id": "AjwhPasTtHIo"
      },
      "execution_count": 21,
      "outputs": []
    },
    {
      "cell_type": "code",
      "source": [
        "llm=NakliLLM()"
      ],
      "metadata": {
        "colab": {
          "base_uri": "https://localhost:8080/"
        },
        "id": "aCYG78JUtXFK",
        "outputId": "8c2d8195-7e45-44e9-9ff0-7d1cbaa9e142"
      },
      "execution_count": 22,
      "outputs": [
        {
          "output_type": "stream",
          "name": "stdout",
          "text": [
            "LLM created\n"
          ]
        }
      ]
    },
    {
      "cell_type": "code",
      "source": [
        "parser=NakliOutputParser()"
      ],
      "metadata": {
        "id": "ixG3aW6PtZl8"
      },
      "execution_count": 23,
      "outputs": []
    },
    {
      "cell_type": "code",
      "source": [
        "chain1=RunnableConnector([template1,llm])"
      ],
      "metadata": {
        "id": "bwcw5CVitdUX"
      },
      "execution_count": 24,
      "outputs": []
    },
    {
      "cell_type": "code",
      "source": [
        "chain1.invoke({'topic':'AI'})"
      ],
      "metadata": {
        "colab": {
          "base_uri": "https://localhost:8080/"
        },
        "id": "O7hoG9u7tmms",
        "outputId": "db866bd6-1602-4c4e-e85a-9817ff6f19f5"
      },
      "execution_count": 25,
      "outputs": [
        {
          "output_type": "execute_result",
          "data": {
            "text/plain": [
              "{'response': 'AI stands for Artificial Intelligence'}"
            ]
          },
          "metadata": {},
          "execution_count": 25
        }
      ]
    },
    {
      "cell_type": "code",
      "source": [
        "chain2=RunnableConnector([template2,llm,parser])"
      ],
      "metadata": {
        "id": "A30HpKoatyGk"
      },
      "execution_count": 26,
      "outputs": []
    },
    {
      "cell_type": "code",
      "source": [
        "chain2.invoke({'response':'This is a joke'})"
      ],
      "metadata": {
        "colab": {
          "base_uri": "https://localhost:8080/",
          "height": 36
        },
        "id": "h7HRYa73t2-Q",
        "outputId": "849c3846-76e5-4112-e713-eb856b840332"
      },
      "execution_count": 27,
      "outputs": [
        {
          "output_type": "execute_result",
          "data": {
            "text/plain": [
              "'Dhaka is the capital of Bangladesh'"
            ],
            "application/vnd.google.colaboratory.intrinsic+json": {
              "type": "string"
            }
          },
          "metadata": {},
          "execution_count": 27
        }
      ]
    },
    {
      "cell_type": "code",
      "source": [
        "final_chain=RunnableConnector([chain1,chain2])"
      ],
      "metadata": {
        "id": "dlI7n7HMuB5E"
      },
      "execution_count": 28,
      "outputs": []
    },
    {
      "cell_type": "code",
      "source": [
        "final_chain.invoke({'topic':'cricket'})"
      ],
      "metadata": {
        "colab": {
          "base_uri": "https://localhost:8080/",
          "height": 36
        },
        "id": "MoibQ8FpuOVY",
        "outputId": "86d7fc93-4462-40b1-9cfa-1a506a85af57"
      },
      "execution_count": 29,
      "outputs": [
        {
          "output_type": "execute_result",
          "data": {
            "text/plain": [
              "'BPL is a cricket league'"
            ],
            "application/vnd.google.colaboratory.intrinsic+json": {
              "type": "string"
            }
          },
          "metadata": {},
          "execution_count": 29
        }
      ]
    }
  ]
}
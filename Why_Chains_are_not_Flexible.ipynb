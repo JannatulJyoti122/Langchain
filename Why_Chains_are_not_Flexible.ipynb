{
  "nbformat": 4,
  "nbformat_minor": 0,
  "metadata": {
    "colab": {
      "provenance": [],
      "authorship_tag": "ABX9TyNbMlEEN9o+l1kgGmJ+pJT0",
      "include_colab_link": true
    },
    "kernelspec": {
      "name": "python3",
      "display_name": "Python 3"
    },
    "language_info": {
      "name": "python"
    }
  },
  "cells": [
    {
      "cell_type": "markdown",
      "metadata": {
        "id": "view-in-github",
        "colab_type": "text"
      },
      "source": [
        "<a href=\"https://colab.research.google.com/github/JannatulJyoti122/Langchain/blob/main/Why_Chains_are_not_Flexible.ipynb\" target=\"_parent\"><img src=\"https://colab.research.google.com/assets/colab-badge.svg\" alt=\"Open In Colab\"/></a>"
      ]
    },
    {
      "cell_type": "code",
      "execution_count": 31,
      "metadata": {
        "id": "JzJaxcOrStcE"
      },
      "outputs": [],
      "source": [
        "import random\n",
        "\n",
        "class NakliLLM:\n",
        "  def __init__(self):\n",
        "    print(\"LLM created\")\n",
        "\n",
        "  def predict(self,promt):\n",
        "    response_list=[\n",
        "        'Dhaka is the capital of Bangladesh',\n",
        "        \"BPL is a cricket league\",\n",
        "        'AI stands for Artificial Intelligence'\n",
        "    ]\n",
        "    return {'response': random.choice(response_list)}"
      ]
    },
    {
      "cell_type": "code",
      "source": [
        "llm=NakliLLM()"
      ],
      "metadata": {
        "id": "qn69844STReN"
      },
      "execution_count": 8,
      "outputs": []
    },
    {
      "cell_type": "code",
      "source": [
        "llm.predict('what is the capital of Bangladesh?')"
      ],
      "metadata": {
        "colab": {
          "base_uri": "https://localhost:8080/"
        },
        "id": "5cOwZHlZTwTf",
        "outputId": "5e3a6d44-eac1-450b-de11-252608ebf38c"
      },
      "execution_count": 11,
      "outputs": [
        {
          "output_type": "execute_result",
          "data": {
            "text/plain": [
              "{'response': 'Dhaka is the capital of Bangladesh'}"
            ]
          },
          "metadata": {},
          "execution_count": 11
        }
      ]
    },
    {
      "cell_type": "code",
      "source": [
        "#from tempfile import template\n",
        "class NakliPromptTemplate:\n",
        "  def __init__(self,template,input_variables):\n",
        "    self.template=template\n",
        "    self.input_variables=input_variables\n",
        "\n",
        "  def format(self, input_dict):\n",
        "    return self.template.format(**input_dict)\n",
        ""
      ],
      "metadata": {
        "id": "6sX0BnzkUXGR"
      },
      "execution_count": 24,
      "outputs": []
    },
    {
      "cell_type": "code",
      "source": [
        "template=NakliPromptTemplate(\n",
        "    template=\"write a {length} poem about {topic}\",\n",
        "    input_variables=['lentgh','topic']\n",
        ")"
      ],
      "metadata": {
        "id": "xQeunAY7U9QK"
      },
      "execution_count": 28,
      "outputs": []
    },
    {
      "cell_type": "code",
      "source": [
        "prompt=template.format({'length':'short','topic':'Bangladesh'})"
      ],
      "metadata": {
        "id": "a3TtC1tNWGXB"
      },
      "execution_count": 30,
      "outputs": []
    },
    {
      "cell_type": "code",
      "source": [
        "llm=NakliLLM()"
      ],
      "metadata": {
        "colab": {
          "base_uri": "https://localhost:8080/"
        },
        "id": "oui4EDBoWnfA",
        "outputId": "15b3ff4c-fe43-4cf8-e0a3-8552fb9ef9ba"
      },
      "execution_count": 32,
      "outputs": [
        {
          "output_type": "stream",
          "name": "stdout",
          "text": [
            "LLM created\n"
          ]
        }
      ]
    },
    {
      "cell_type": "code",
      "source": [
        "llm.predict(prompt)"
      ],
      "metadata": {
        "colab": {
          "base_uri": "https://localhost:8080/"
        },
        "id": "taYlP1eZW31l",
        "outputId": "7662a892-b40e-4cc9-c1a0-080e6a39d479"
      },
      "execution_count": 37,
      "outputs": [
        {
          "output_type": "execute_result",
          "data": {
            "text/plain": [
              "{'response': 'AI stands for Artificial Intelligence'}"
            ]
          },
          "metadata": {},
          "execution_count": 37
        }
      ]
    },
    {
      "cell_type": "code",
      "source": [
        "class NakliLLMChain:\n",
        "  def __init__(self,llm,promt):\n",
        "    self.llm=llm;\n",
        "    self.prompt=prompt\n",
        "\n",
        "  def run(self,input_dict):\n",
        "\n",
        "    final_prompt=self.prompt.format(input_dict)\n",
        "    result=self.llm.predict(final_prompt)\n",
        "\n",
        "    return result['response']"
      ],
      "metadata": {
        "id": "I920xc7EXAg_"
      },
      "execution_count": 38,
      "outputs": []
    },
    {
      "cell_type": "code",
      "source": [
        "template=NakliPromptTemplate(\n",
        "    template=\"write a {length} poem about {topic}\",\n",
        "    input_variables=['lentgh','topic']\n",
        ")"
      ],
      "metadata": {
        "id": "3dH4tu7DX1jk"
      },
      "execution_count": 39,
      "outputs": []
    },
    {
      "cell_type": "code",
      "source": [
        "llm=NakliLLM()"
      ],
      "metadata": {
        "colab": {
          "base_uri": "https://localhost:8080/"
        },
        "id": "IQjE-G3VX3Ku",
        "outputId": "952965d9-a967-42f6-862e-70a482eb6f79"
      },
      "execution_count": 40,
      "outputs": [
        {
          "output_type": "stream",
          "name": "stdout",
          "text": [
            "LLM created\n"
          ]
        }
      ]
    },
    {
      "cell_type": "code",
      "source": [
        "chain=NakliLLMChain(llm,template)"
      ],
      "metadata": {
        "id": "SDTkDQS4X8Kd"
      },
      "execution_count": 41,
      "outputs": []
    },
    {
      "cell_type": "code",
      "source": [
        "chain.run({'lenth':'short','topic': 'Bangladesh'})"
      ],
      "metadata": {
        "colab": {
          "base_uri": "https://localhost:8080/",
          "height": 36
        },
        "id": "Nx6B_XtOYB1U",
        "outputId": "53ea46ab-d398-4558-9f1f-edef4c5047f1"
      },
      "execution_count": 42,
      "outputs": [
        {
          "output_type": "execute_result",
          "data": {
            "text/plain": [
              "'AI stands for Artificial Intelligence'"
            ],
            "application/vnd.google.colaboratory.intrinsic+json": {
              "type": "string"
            }
          },
          "metadata": {},
          "execution_count": 42
        }
      ]
    }
  ]
}